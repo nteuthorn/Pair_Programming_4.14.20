{
 "cells": [
  {
   "cell_type": "markdown",
   "metadata": {
    "colab_type": "text",
    "id": "Q40o1FaUBl8g"
   },
   "source": [
    "### Data Science Workflow Assignment\n",
    "\n",
    "The objective of this notebook is to provide a high level overview of an exemplar data science workflow using actual data.\n",
    "\n",
    "Instructions:\n",
    "\n",
    "Read and step through the noteook and answer the question at the end of the noteboo.\n",
    "\n",
    "References:  \n",
    "Joe Blitztein, CS 109 Data Science     \n",
    "https://github.com/cs109/2015\n",
    "\n",
    "Development Workflows for Data Scientists     \n",
    "https://resources.github.com/downloads/development-workflows-data-scientists.pdf\n",
    "\n",
    "Top Ranked English Movies Of This Decade     \n",
    "https://www.kaggle.com/saipranava/top-ranked-enlglish-movies-of-this-decade/data#IMDB.csv\n",
    "\n",
    "Aakash Tandel, A Data Science Workflow   \n",
    "https://towardsdatascience.com/a-data-science-workflow-26c3f05a010e\n",
    "\n"
   ]
  },
  {
   "cell_type": "markdown",
   "metadata": {
    "colab_type": "text",
    "id": "z9YPeLh6Bl8i"
   },
   "source": [
    "### Introduction\n",
    "\n",
    "There is no specific step-by-step process for solving all data science problems. The process needs to be adjusted with every new problem and dataset. We do however see similar procedural steps in most projects. \n",
    "\n",
    "For the purposes of this overview, we will following the Data Science Workflow from Joe Blitztein, CS 109 Data Science.\n",
    "\n",
    "<img src=\"data_science_workflow.png\" width=\"400px\"/>\n",
    "\n",
    "Source: Joe Blitztein, CS 109 Data Science."
   ]
  },
  {
   "cell_type": "markdown",
   "metadata": {
    "colab_type": "text",
    "id": "SzWLvT05Bl8j"
   },
   "source": [
    "### Data Science Workflow\n",
    "\n",
    "1.\tAsk an interesting question \n",
    "2.\tGet the data \n",
    "3.\tExplore (and clean the data)\n",
    "5.\tModel the data \n",
    "6.\tCommunicate and visualize the results \n",
    "8.  Conclusion\n",
    "9.  Resources\n"
   ]
  },
  {
   "cell_type": "markdown",
   "metadata": {
    "colab_type": "text",
    "id": "op_A6aZ4Bl8k"
   },
   "source": [
    "### 1) Ask an interesting question \n",
    "\n",
    "What is the scientific goal? How can we use the data? What do we want to predict or estimate?\n",
    "\n",
    "For this exercise, we are going to analyze the highest ranked movies on IMDB.com. \n",
    "\n",
    "The question: Can we predict IMDB movie ratings based on features like budget, runtime, and votes on the website?\n"
   ]
  },
  {
   "cell_type": "markdown",
   "metadata": {
    "colab_type": "text",
    "id": "ACC8U-ZTBl8l"
   },
   "source": [
    "### 2) Get the Data\n",
    "\n",
    "How was the data sampled? What data is relevant? Are there any privacy issues?\n",
    "\n",
    "Data can come from a variety of sources. CSV (comma separated value) text files, running SQL queries on a database, or various sources on the Internet. \n",
    "\n",
    "It is common to use the Python library, `Pandas`, to import data. Pandas represents the data in a tabular data structure called a dataframe.\n",
    "\n",
    "Once the data is in a dataframe, we can more easily clean, analyze and model the data.\n",
    "\n",
    "We will be using a Kaggle dataset titled \"Top Ranked English Movies of this Decade.\" The data is available in a CSV file. \n",
    "\n",
    "https://www.kaggle.com/saipranava/top-ranked-enlglish-movies-of-this-decade/data\n",
    "\n",
    "https://www.kaggle.com/saipranava/top-ranked-enlglish-movies-of-this-decade/download/SD2LNx0Z2MES3z3L53qQ%2Fversions%2FPSiePnuWqTJZrCan4Qua%2Ffiles%2FIMDB.csv?datasetVersionNumber=1"
   ]
  },
  {
   "cell_type": "code",
   "execution_count": 30,
   "metadata": {
    "colab": {},
    "colab_type": "code",
    "id": "_iGvHO47Bl8m"
   },
   "outputs": [],
   "source": [
    "import pandas as pd \n",
    "df = pd.read_csv('https://tf-assets-prod.s3.amazonaws.com/tf-curric/data-science/top-ranked-enlglish-movies-of-this-decade/IMDB.csv', index_col=0, encoding='latin-1')"
   ]
  },
  {
   "cell_type": "markdown",
   "metadata": {
    "colab_type": "text",
    "id": "4UtFvq6bBl8p"
   },
   "source": [
    "### 3) Explore (and clean) the data\n",
    "\n",
    "- Examine and clean the data     \n",
    "\n",
    "- Plot the data\n",
    "\n",
    "- Analyze the data\n",
    "\n",
    "Now that the data is in a Pandas dataframe, we can determine its size and inspect the first few rows of data."
   ]
  },
  {
   "cell_type": "code",
   "execution_count": 31,
   "metadata": {
    "colab": {},
    "colab_type": "code",
    "id": "blqkqB8sBl8q"
   },
   "outputs": [
    {
     "data": {
      "text/plain": [
       "(118, 54)"
      ]
     },
     "execution_count": 31,
     "metadata": {},
     "output_type": "execute_result"
    }
   ],
   "source": [
    "df.shape"
   ]
  },
  {
   "cell_type": "markdown",
   "metadata": {
    "colab_type": "text",
    "id": "97NP0w5uBl8t"
   },
   "source": [
    "The shape attribute tells us there are 119 rows and 54 columns or attributes. Which is a very small dataset, but useful for this exercise."
   ]
  },
  {
   "cell_type": "code",
   "execution_count": 32,
   "metadata": {
    "colab": {},
    "colab_type": "code",
    "id": "-X1-jfm1Bl8v"
   },
   "outputs": [
    {
     "data": {
      "text/html": [
       "<div>\n",
       "<style scoped>\n",
       "    .dataframe tbody tr th:only-of-type {\n",
       "        vertical-align: middle;\n",
       "    }\n",
       "\n",
       "    .dataframe tbody tr th {\n",
       "        vertical-align: top;\n",
       "    }\n",
       "\n",
       "    .dataframe thead th {\n",
       "        text-align: right;\n",
       "    }\n",
       "</style>\n",
       "<table border=\"1\" class=\"dataframe\">\n",
       "  <thead>\n",
       "    <tr style=\"text-align: right;\">\n",
       "      <th></th>\n",
       "      <th>Title</th>\n",
       "      <th>Rating</th>\n",
       "      <th>TotalVotes</th>\n",
       "      <th>Genre1</th>\n",
       "      <th>Genre2</th>\n",
       "      <th>Genre3</th>\n",
       "      <th>MetaCritic</th>\n",
       "      <th>Budget</th>\n",
       "      <th>Runtime</th>\n",
       "      <th>ï..CVotes10</th>\n",
       "      <th>...</th>\n",
       "      <th>Votes3044</th>\n",
       "      <th>Votes3044M</th>\n",
       "      <th>Votes3044F</th>\n",
       "      <th>Votes45A</th>\n",
       "      <th>Votes45AM</th>\n",
       "      <th>Votes45AF</th>\n",
       "      <th>VotesIMDB</th>\n",
       "      <th>Votes1000</th>\n",
       "      <th>VotesUS</th>\n",
       "      <th>VotesnUS</th>\n",
       "    </tr>\n",
       "  </thead>\n",
       "  <tbody>\n",
       "    <tr>\n",
       "      <td>1</td>\n",
       "      <td>12 Years a Slave (2013)</td>\n",
       "      <td>8.1</td>\n",
       "      <td>496,092</td>\n",
       "      <td>Biography</td>\n",
       "      <td>Drama</td>\n",
       "      <td>History</td>\n",
       "      <td>96.0</td>\n",
       "      <td>$20,000,000</td>\n",
       "      <td>134 min</td>\n",
       "      <td>75556</td>\n",
       "      <td>...</td>\n",
       "      <td>8.0</td>\n",
       "      <td>7.9</td>\n",
       "      <td>8.0</td>\n",
       "      <td>7.8</td>\n",
       "      <td>7.8</td>\n",
       "      <td>8.1</td>\n",
       "      <td>8.0</td>\n",
       "      <td>7.7</td>\n",
       "      <td>8.3</td>\n",
       "      <td>8.0</td>\n",
       "    </tr>\n",
       "    <tr>\n",
       "      <td>2</td>\n",
       "      <td>127 Hours (2010)</td>\n",
       "      <td>7.6</td>\n",
       "      <td>297,075</td>\n",
       "      <td>Adventure</td>\n",
       "      <td>Biography</td>\n",
       "      <td>Drama</td>\n",
       "      <td>82.0</td>\n",
       "      <td>$18,000,000</td>\n",
       "      <td>94 min</td>\n",
       "      <td>28939</td>\n",
       "      <td>...</td>\n",
       "      <td>7.5</td>\n",
       "      <td>7.5</td>\n",
       "      <td>7.5</td>\n",
       "      <td>7.3</td>\n",
       "      <td>7.3</td>\n",
       "      <td>7.5</td>\n",
       "      <td>7.6</td>\n",
       "      <td>7.0</td>\n",
       "      <td>7.7</td>\n",
       "      <td>7.6</td>\n",
       "    </tr>\n",
       "    <tr>\n",
       "      <td>3</td>\n",
       "      <td>50/50 (2011)</td>\n",
       "      <td>7.7</td>\n",
       "      <td>283,935</td>\n",
       "      <td>Comedy</td>\n",
       "      <td>Drama</td>\n",
       "      <td>Romance</td>\n",
       "      <td>72.0</td>\n",
       "      <td>$8,000,000</td>\n",
       "      <td>100 min</td>\n",
       "      <td>28304</td>\n",
       "      <td>...</td>\n",
       "      <td>7.6</td>\n",
       "      <td>7.6</td>\n",
       "      <td>7.6</td>\n",
       "      <td>7.4</td>\n",
       "      <td>7.4</td>\n",
       "      <td>7.5</td>\n",
       "      <td>7.4</td>\n",
       "      <td>7.0</td>\n",
       "      <td>7.9</td>\n",
       "      <td>7.6</td>\n",
       "    </tr>\n",
       "    <tr>\n",
       "      <td>4</td>\n",
       "      <td>About Time (2013)</td>\n",
       "      <td>7.8</td>\n",
       "      <td>225,412</td>\n",
       "      <td>Comedy</td>\n",
       "      <td>Drama</td>\n",
       "      <td>Fantasy</td>\n",
       "      <td>NaN</td>\n",
       "      <td>$12,000,000</td>\n",
       "      <td>123 min</td>\n",
       "      <td>38556</td>\n",
       "      <td>...</td>\n",
       "      <td>7.6</td>\n",
       "      <td>7.6</td>\n",
       "      <td>7.7</td>\n",
       "      <td>7.6</td>\n",
       "      <td>7.5</td>\n",
       "      <td>7.8</td>\n",
       "      <td>7.7</td>\n",
       "      <td>6.9</td>\n",
       "      <td>7.8</td>\n",
       "      <td>7.7</td>\n",
       "    </tr>\n",
       "    <tr>\n",
       "      <td>5</td>\n",
       "      <td>Amour (2012)</td>\n",
       "      <td>7.9</td>\n",
       "      <td>76,121</td>\n",
       "      <td>Drama</td>\n",
       "      <td>Romance</td>\n",
       "      <td>NaN</td>\n",
       "      <td>94.0</td>\n",
       "      <td>$8,900,000</td>\n",
       "      <td>127 min</td>\n",
       "      <td>11093</td>\n",
       "      <td>...</td>\n",
       "      <td>7.7</td>\n",
       "      <td>7.7</td>\n",
       "      <td>7.9</td>\n",
       "      <td>7.9</td>\n",
       "      <td>7.8</td>\n",
       "      <td>8.1</td>\n",
       "      <td>6.6</td>\n",
       "      <td>7.2</td>\n",
       "      <td>7.9</td>\n",
       "      <td>7.8</td>\n",
       "    </tr>\n",
       "  </tbody>\n",
       "</table>\n",
       "<p>5 rows × 54 columns</p>\n",
       "</div>"
      ],
      "text/plain": [
       "                     Title  Rating TotalVotes     Genre1     Genre2   Genre3  \\\n",
       "1  12 Years a Slave (2013)     8.1    496,092  Biography      Drama  History   \n",
       "2         127 Hours (2010)     7.6    297,075  Adventure  Biography    Drama   \n",
       "3             50/50 (2011)     7.7    283,935     Comedy      Drama  Romance   \n",
       "4        About Time (2013)     7.8    225,412     Comedy      Drama  Fantasy   \n",
       "5             Amour (2012)     7.9     76,121      Drama    Romance      NaN   \n",
       "\n",
       "   MetaCritic        Budget  Runtime  ï..CVotes10  ...  Votes3044  Votes3044M  \\\n",
       "1        96.0  $20,000,000   134 min        75556  ...        8.0         7.9   \n",
       "2        82.0  $18,000,000    94 min        28939  ...        7.5         7.5   \n",
       "3        72.0   $8,000,000   100 min        28304  ...        7.6         7.6   \n",
       "4         NaN  $12,000,000   123 min        38556  ...        7.6         7.6   \n",
       "5        94.0   $8,900,000   127 min        11093  ...        7.7         7.7   \n",
       "\n",
       "   Votes3044F  Votes45A  Votes45AM  Votes45AF  VotesIMDB  Votes1000  VotesUS  \\\n",
       "1         8.0       7.8        7.8        8.1        8.0        7.7      8.3   \n",
       "2         7.5       7.3        7.3        7.5        7.6        7.0      7.7   \n",
       "3         7.6       7.4        7.4        7.5        7.4        7.0      7.9   \n",
       "4         7.7       7.6        7.5        7.8        7.7        6.9      7.8   \n",
       "5         7.9       7.9        7.8        8.1        6.6        7.2      7.9   \n",
       "\n",
       "  VotesnUS  \n",
       "1      8.0  \n",
       "2      7.6  \n",
       "3      7.6  \n",
       "4      7.7  \n",
       "5      7.8  \n",
       "\n",
       "[5 rows x 54 columns]"
      ]
     },
     "execution_count": 32,
     "metadata": {},
     "output_type": "execute_result"
    }
   ],
   "source": [
    "df.head()"
   ]
  },
  {
   "cell_type": "markdown",
   "metadata": {
    "colab_type": "text",
    "id": "zm0SzbCiBl8z"
   },
   "source": [
    "The target variable we are trying to predict is in the `Rating` column. \n",
    "\n",
    "The features or input variables we are going to use are: `MetaCritic`, `Budget`, `Runtime`, `VotesUS`, `VotesnUS`, and `TotalVotes`. We will remove all of the other columns from our analysis.\n",
    "\n",
    "*Note: There are several methods we will learn later in the course for selecting the most relevant features for building a production model.*\n",
    "\n",
    "The code below creates a new dataframe with a subset of the columns we need and lists the first 10 rows."
   ]
  },
  {
   "cell_type": "code",
   "execution_count": 33,
   "metadata": {
    "colab": {},
    "colab_type": "code",
    "id": "7hovIhSiBl80"
   },
   "outputs": [
    {
     "data": {
      "text/html": [
       "<div>\n",
       "<style scoped>\n",
       "    .dataframe tbody tr th:only-of-type {\n",
       "        vertical-align: middle;\n",
       "    }\n",
       "\n",
       "    .dataframe tbody tr th {\n",
       "        vertical-align: top;\n",
       "    }\n",
       "\n",
       "    .dataframe thead th {\n",
       "        text-align: right;\n",
       "    }\n",
       "</style>\n",
       "<table border=\"1\" class=\"dataframe\">\n",
       "  <thead>\n",
       "    <tr style=\"text-align: right;\">\n",
       "      <th></th>\n",
       "      <th>Title</th>\n",
       "      <th>Rating</th>\n",
       "      <th>TotalVotes</th>\n",
       "      <th>MetaCritic</th>\n",
       "      <th>Budget</th>\n",
       "      <th>Runtime</th>\n",
       "      <th>VotesUS</th>\n",
       "      <th>VotesnUS</th>\n",
       "    </tr>\n",
       "  </thead>\n",
       "  <tbody>\n",
       "    <tr>\n",
       "      <td>1</td>\n",
       "      <td>12 Years a Slave (2013)</td>\n",
       "      <td>8.1</td>\n",
       "      <td>496,092</td>\n",
       "      <td>96.0</td>\n",
       "      <td>$20,000,000</td>\n",
       "      <td>134 min</td>\n",
       "      <td>8.3</td>\n",
       "      <td>8.0</td>\n",
       "    </tr>\n",
       "    <tr>\n",
       "      <td>2</td>\n",
       "      <td>127 Hours (2010)</td>\n",
       "      <td>7.6</td>\n",
       "      <td>297,075</td>\n",
       "      <td>82.0</td>\n",
       "      <td>$18,000,000</td>\n",
       "      <td>94 min</td>\n",
       "      <td>7.7</td>\n",
       "      <td>7.6</td>\n",
       "    </tr>\n",
       "    <tr>\n",
       "      <td>3</td>\n",
       "      <td>50/50 (2011)</td>\n",
       "      <td>7.7</td>\n",
       "      <td>283,935</td>\n",
       "      <td>72.0</td>\n",
       "      <td>$8,000,000</td>\n",
       "      <td>100 min</td>\n",
       "      <td>7.9</td>\n",
       "      <td>7.6</td>\n",
       "    </tr>\n",
       "    <tr>\n",
       "      <td>4</td>\n",
       "      <td>About Time (2013)</td>\n",
       "      <td>7.8</td>\n",
       "      <td>225,412</td>\n",
       "      <td>NaN</td>\n",
       "      <td>$12,000,000</td>\n",
       "      <td>123 min</td>\n",
       "      <td>7.8</td>\n",
       "      <td>7.7</td>\n",
       "    </tr>\n",
       "    <tr>\n",
       "      <td>5</td>\n",
       "      <td>Amour (2012)</td>\n",
       "      <td>7.9</td>\n",
       "      <td>76,121</td>\n",
       "      <td>94.0</td>\n",
       "      <td>$8,900,000</td>\n",
       "      <td>127 min</td>\n",
       "      <td>7.9</td>\n",
       "      <td>7.8</td>\n",
       "    </tr>\n",
       "    <tr>\n",
       "      <td>6</td>\n",
       "      <td>Argo (2012)</td>\n",
       "      <td>7.7</td>\n",
       "      <td>486,840</td>\n",
       "      <td>86.0</td>\n",
       "      <td>$44,500,000</td>\n",
       "      <td>120 min</td>\n",
       "      <td>8.0</td>\n",
       "      <td>7.6</td>\n",
       "    </tr>\n",
       "    <tr>\n",
       "      <td>7</td>\n",
       "      <td>Arrival (2016)</td>\n",
       "      <td>8.0</td>\n",
       "      <td>370,842</td>\n",
       "      <td>81.0</td>\n",
       "      <td>$47,000,000</td>\n",
       "      <td>116 min</td>\n",
       "      <td>8.0</td>\n",
       "      <td>7.9</td>\n",
       "    </tr>\n",
       "    <tr>\n",
       "      <td>8</td>\n",
       "      <td>Beasts of No Nation (2015)</td>\n",
       "      <td>7.8</td>\n",
       "      <td>51,781</td>\n",
       "      <td>79.0</td>\n",
       "      <td>$6,000,000</td>\n",
       "      <td>137 min</td>\n",
       "      <td>7.9</td>\n",
       "      <td>7.7</td>\n",
       "    </tr>\n",
       "    <tr>\n",
       "      <td>9</td>\n",
       "      <td>Before Midnight (2013)</td>\n",
       "      <td>7.9</td>\n",
       "      <td>106,553</td>\n",
       "      <td>94.0</td>\n",
       "      <td>$3,000,000</td>\n",
       "      <td>109 min</td>\n",
       "      <td>8.0</td>\n",
       "      <td>7.9</td>\n",
       "    </tr>\n",
       "    <tr>\n",
       "      <td>10</td>\n",
       "      <td>Big Hero 6 (2014)</td>\n",
       "      <td>7.8</td>\n",
       "      <td>315,485</td>\n",
       "      <td>74.0</td>\n",
       "      <td>Opening Weekend:         56,215,889           ...</td>\n",
       "      <td>NaN</td>\n",
       "      <td>7.9</td>\n",
       "      <td>7.7</td>\n",
       "    </tr>\n",
       "  </tbody>\n",
       "</table>\n",
       "</div>"
      ],
      "text/plain": [
       "                         Title  Rating TotalVotes  MetaCritic  \\\n",
       "1      12 Years a Slave (2013)     8.1    496,092        96.0   \n",
       "2             127 Hours (2010)     7.6    297,075        82.0   \n",
       "3                 50/50 (2011)     7.7    283,935        72.0   \n",
       "4            About Time (2013)     7.8    225,412         NaN   \n",
       "5                 Amour (2012)     7.9     76,121        94.0   \n",
       "6                  Argo (2012)     7.7    486,840        86.0   \n",
       "7               Arrival (2016)     8.0    370,842        81.0   \n",
       "8   Beasts of No Nation (2015)     7.8     51,781        79.0   \n",
       "9       Before Midnight (2013)     7.9    106,553        94.0   \n",
       "10           Big Hero 6 (2014)     7.8    315,485        74.0   \n",
       "\n",
       "                                               Budget  Runtime VotesUS  \\\n",
       "1                                        $20,000,000   134 min     8.3   \n",
       "2                                        $18,000,000    94 min     7.7   \n",
       "3                                         $8,000,000   100 min     7.9   \n",
       "4                                        $12,000,000   123 min     7.8   \n",
       "5                                         $8,900,000   127 min     7.9   \n",
       "6                                        $44,500,000   120 min     8.0   \n",
       "7                                        $47,000,000   116 min     8.0   \n",
       "8                                         $6,000,000   137 min     7.9   \n",
       "9                                         $3,000,000   109 min     8.0   \n",
       "10  Opening Weekend:         56,215,889           ...      NaN     7.9   \n",
       "\n",
       "   VotesnUS  \n",
       "1       8.0  \n",
       "2       7.6  \n",
       "3       7.6  \n",
       "4       7.7  \n",
       "5       7.8  \n",
       "6       7.6  \n",
       "7       7.9  \n",
       "8       7.7  \n",
       "9       7.9  \n",
       "10      7.7  "
      ]
     },
     "execution_count": 33,
     "metadata": {},
     "output_type": "execute_result"
    }
   ],
   "source": [
    "df = df[['Title', 'Rating', 'TotalVotes', 'MetaCritic', 'Budget', 'Runtime', 'VotesUS', 'VotesnUS']]\n",
    "df.head(10)"
   ]
  },
  {
   "cell_type": "markdown",
   "metadata": {
    "colab_type": "text",
    "id": "34LIpzYQBl83"
   },
   "source": [
    "Missing and null values are a common problem. For example, the `NaN` value in the `MetaCritic` column.\n"
   ]
  },
  {
   "cell_type": "code",
   "execution_count": 34,
   "metadata": {
    "colab": {},
    "colab_type": "code",
    "id": "2SILa8W3Bl84"
   },
   "outputs": [
    {
     "data": {
      "text/html": [
       "<div>\n",
       "<style scoped>\n",
       "    .dataframe tbody tr th:only-of-type {\n",
       "        vertical-align: middle;\n",
       "    }\n",
       "\n",
       "    .dataframe tbody tr th {\n",
       "        vertical-align: top;\n",
       "    }\n",
       "\n",
       "    .dataframe thead th {\n",
       "        text-align: right;\n",
       "    }\n",
       "</style>\n",
       "<table border=\"1\" class=\"dataframe\">\n",
       "  <thead>\n",
       "    <tr style=\"text-align: right;\">\n",
       "      <th></th>\n",
       "      <th>Title</th>\n",
       "      <th>Rating</th>\n",
       "      <th>TotalVotes</th>\n",
       "      <th>MetaCritic</th>\n",
       "      <th>Budget</th>\n",
       "      <th>Runtime</th>\n",
       "      <th>VotesUS</th>\n",
       "      <th>VotesnUS</th>\n",
       "    </tr>\n",
       "  </thead>\n",
       "  <tbody>\n",
       "    <tr>\n",
       "      <td>1</td>\n",
       "      <td>False</td>\n",
       "      <td>False</td>\n",
       "      <td>False</td>\n",
       "      <td>False</td>\n",
       "      <td>False</td>\n",
       "      <td>False</td>\n",
       "      <td>False</td>\n",
       "      <td>False</td>\n",
       "    </tr>\n",
       "    <tr>\n",
       "      <td>2</td>\n",
       "      <td>False</td>\n",
       "      <td>False</td>\n",
       "      <td>False</td>\n",
       "      <td>False</td>\n",
       "      <td>False</td>\n",
       "      <td>False</td>\n",
       "      <td>False</td>\n",
       "      <td>False</td>\n",
       "    </tr>\n",
       "    <tr>\n",
       "      <td>3</td>\n",
       "      <td>False</td>\n",
       "      <td>False</td>\n",
       "      <td>False</td>\n",
       "      <td>False</td>\n",
       "      <td>False</td>\n",
       "      <td>False</td>\n",
       "      <td>False</td>\n",
       "      <td>False</td>\n",
       "    </tr>\n",
       "    <tr>\n",
       "      <td>4</td>\n",
       "      <td>False</td>\n",
       "      <td>False</td>\n",
       "      <td>False</td>\n",
       "      <td>True</td>\n",
       "      <td>False</td>\n",
       "      <td>False</td>\n",
       "      <td>False</td>\n",
       "      <td>False</td>\n",
       "    </tr>\n",
       "    <tr>\n",
       "      <td>5</td>\n",
       "      <td>False</td>\n",
       "      <td>False</td>\n",
       "      <td>False</td>\n",
       "      <td>False</td>\n",
       "      <td>False</td>\n",
       "      <td>False</td>\n",
       "      <td>False</td>\n",
       "      <td>False</td>\n",
       "    </tr>\n",
       "    <tr>\n",
       "      <td>...</td>\n",
       "      <td>...</td>\n",
       "      <td>...</td>\n",
       "      <td>...</td>\n",
       "      <td>...</td>\n",
       "      <td>...</td>\n",
       "      <td>...</td>\n",
       "      <td>...</td>\n",
       "      <td>...</td>\n",
       "    </tr>\n",
       "    <tr>\n",
       "      <td>114</td>\n",
       "      <td>False</td>\n",
       "      <td>False</td>\n",
       "      <td>False</td>\n",
       "      <td>False</td>\n",
       "      <td>False</td>\n",
       "      <td>False</td>\n",
       "      <td>False</td>\n",
       "      <td>False</td>\n",
       "    </tr>\n",
       "    <tr>\n",
       "      <td>115</td>\n",
       "      <td>False</td>\n",
       "      <td>False</td>\n",
       "      <td>False</td>\n",
       "      <td>False</td>\n",
       "      <td>False</td>\n",
       "      <td>True</td>\n",
       "      <td>False</td>\n",
       "      <td>False</td>\n",
       "    </tr>\n",
       "    <tr>\n",
       "      <td>116</td>\n",
       "      <td>False</td>\n",
       "      <td>False</td>\n",
       "      <td>False</td>\n",
       "      <td>False</td>\n",
       "      <td>False</td>\n",
       "      <td>False</td>\n",
       "      <td>False</td>\n",
       "      <td>False</td>\n",
       "    </tr>\n",
       "    <tr>\n",
       "      <td>117</td>\n",
       "      <td>False</td>\n",
       "      <td>False</td>\n",
       "      <td>False</td>\n",
       "      <td>False</td>\n",
       "      <td>False</td>\n",
       "      <td>False</td>\n",
       "      <td>False</td>\n",
       "      <td>False</td>\n",
       "    </tr>\n",
       "    <tr>\n",
       "      <td>118</td>\n",
       "      <td>False</td>\n",
       "      <td>False</td>\n",
       "      <td>False</td>\n",
       "      <td>False</td>\n",
       "      <td>False</td>\n",
       "      <td>False</td>\n",
       "      <td>False</td>\n",
       "      <td>False</td>\n",
       "    </tr>\n",
       "  </tbody>\n",
       "</table>\n",
       "<p>118 rows × 8 columns</p>\n",
       "</div>"
      ],
      "text/plain": [
       "     Title  Rating  TotalVotes  MetaCritic  Budget  Runtime  VotesUS  VotesnUS\n",
       "1    False   False       False       False   False    False    False     False\n",
       "2    False   False       False       False   False    False    False     False\n",
       "3    False   False       False       False   False    False    False     False\n",
       "4    False   False       False        True   False    False    False     False\n",
       "5    False   False       False       False   False    False    False     False\n",
       "..     ...     ...         ...         ...     ...      ...      ...       ...\n",
       "114  False   False       False       False   False    False    False     False\n",
       "115  False   False       False       False   False     True    False     False\n",
       "116  False   False       False       False   False    False    False     False\n",
       "117  False   False       False       False   False    False    False     False\n",
       "118  False   False       False       False   False    False    False     False\n",
       "\n",
       "[118 rows x 8 columns]"
      ]
     },
     "execution_count": 34,
     "metadata": {},
     "output_type": "execute_result"
    }
   ],
   "source": [
    "df.isnull()"
   ]
  },
  {
   "cell_type": "markdown",
   "metadata": {
    "colab_type": "text",
    "id": "bIiP_wnjBl87"
   },
   "source": [
    "We may not have captures all of the missing values with this summary.\n",
    "\n",
    "We can sum the missing values per column as follows."
   ]
  },
  {
   "cell_type": "code",
   "execution_count": 35,
   "metadata": {
    "colab": {},
    "colab_type": "code",
    "id": "R33UhP0jBl88"
   },
   "outputs": [
    {
     "data": {
      "text/plain": [
       "Title          0\n",
       "Rating         0\n",
       "TotalVotes     0\n",
       "MetaCritic     7\n",
       "Budget         0\n",
       "Runtime       21\n",
       "VotesUS        0\n",
       "VotesnUS       1\n",
       "dtype: int64"
      ]
     },
     "execution_count": 35,
     "metadata": {},
     "output_type": "execute_result"
    }
   ],
   "source": [
    "df.isnull().sum()"
   ]
  },
  {
   "cell_type": "markdown",
   "metadata": {
    "colab_type": "text",
    "id": "MDOxiBwvBl9A"
   },
   "source": [
    "Here we can see missing values for `Runtime` and `VotesnUS.`\n",
    "\n",
    "Strategies for correcting missing values include removing those rows or *imputing* some value. Missing data imputation invovles replacing missing or null values using some strategy. Strategies include the most frequently occuring value, the mean, etc.\n",
    "\n",
    "For now, we will just drop these rows."
   ]
  },
  {
   "cell_type": "code",
   "execution_count": 36,
   "metadata": {
    "colab": {},
    "colab_type": "code",
    "id": "f2agdwVmBl9B"
   },
   "outputs": [],
   "source": [
    "df = df.dropna()"
   ]
  },
  {
   "cell_type": "code",
   "execution_count": 37,
   "metadata": {
    "colab": {},
    "colab_type": "code",
    "id": "gwvLktZqBl9E"
   },
   "outputs": [
    {
     "data": {
      "text/plain": [
       "Title         0\n",
       "Rating        0\n",
       "TotalVotes    0\n",
       "MetaCritic    0\n",
       "Budget        0\n",
       "Runtime       0\n",
       "VotesUS       0\n",
       "VotesnUS      0\n",
       "dtype: int64"
      ]
     },
     "execution_count": 37,
     "metadata": {},
     "output_type": "execute_result"
    }
   ],
   "source": [
    "df.isnull().sum()"
   ]
  },
  {
   "cell_type": "markdown",
   "metadata": {
    "colab_type": "text",
    "id": "v28hpuH2Bl9H"
   },
   "source": [
    "Tada!\n",
    "\n",
    "Another important check in the dataset are the data types. "
   ]
  },
  {
   "cell_type": "code",
   "execution_count": 38,
   "metadata": {
    "colab": {},
    "colab_type": "code",
    "id": "5_Eh532BBl9I",
    "scrolled": true
   },
   "outputs": [
    {
     "data": {
      "text/plain": [
       "Title          object\n",
       "Rating        float64\n",
       "TotalVotes     object\n",
       "MetaCritic    float64\n",
       "Budget         object\n",
       "Runtime        object\n",
       "VotesUS        object\n",
       "VotesnUS       object\n",
       "dtype: object"
      ]
     },
     "execution_count": 38,
     "metadata": {},
     "output_type": "execute_result"
    }
   ],
   "source": [
    "df.dtypes"
   ]
  },
  {
   "cell_type": "markdown",
   "metadata": {
    "colab_type": "text",
    "id": "jQxUPiL_Bl9K"
   },
   "source": [
    "Notice how `TotalVotes` , `Budget`,  `Runtime`, `VotesUS`, and `VotesnUS` are of type *object*. This is due to these fields including non-numeric characters like ',' and '$.' \n",
    "\n",
    "We need to convert these to numeric values."
   ]
  },
  {
   "cell_type": "code",
   "execution_count": 39,
   "metadata": {
    "colab": {},
    "colab_type": "code",
    "id": "Yx4YROWpBl9L"
   },
   "outputs": [
    {
     "data": {
      "text/plain": [
       "dtype('int32')"
      ]
     },
     "execution_count": 39,
     "metadata": {},
     "output_type": "execute_result"
    }
   ],
   "source": [
    "df.TotalVotes = df.TotalVotes.str.replace(',', '')\n",
    "df.TotalVotes = df.TotalVotes.astype(int)\n",
    "df.TotalVotes.dtype"
   ]
  },
  {
   "cell_type": "markdown",
   "metadata": {
    "colab_type": "text",
    "id": "pdzXEODUBl9N"
   },
   "source": [
    "For some rows, `Budget` also contains some embedded text. We will just remove these rows. Another option could use regular expressions to try to extract the actual value. "
   ]
  },
  {
   "cell_type": "code",
   "execution_count": 40,
   "metadata": {
    "colab": {},
    "colab_type": "code",
    "id": "1zT8qFPoBl9O"
   },
   "outputs": [
    {
     "data": {
      "text/plain": [
       "dtype('int32')"
      ]
     },
     "execution_count": 40,
     "metadata": {},
     "output_type": "execute_result"
    }
   ],
   "source": [
    "df = df[(df.Budget.str.contains(\"Opening\") == False) & \n",
    "        (df.Budget.str.contains(\"Pathé\") == False) &\n",
    "        (df.Budget.str.contains(\"Production\") == False)]\n",
    "df.Budget = df.Budget.str.replace('[^\\x00-\\x7F]','')\n",
    "df.Budget = df.Budget.str.replace(',', '')\n",
    "df.Budget = df.Budget.str.replace('$', '')\n",
    "df.Budget = df.Budget.astype(int)\n",
    "df.Budget.dtype "
   ]
  },
  {
   "cell_type": "markdown",
   "metadata": {
    "colab_type": "text",
    "id": "dgzXIE8hBl9R"
   },
   "source": [
    "For `Runtime` we will use a regular expression to extract the numeric value for that column."
   ]
  },
  {
   "cell_type": "code",
   "execution_count": 41,
   "metadata": {
    "colab": {},
    "colab_type": "code",
    "id": "yZallsZIBl9T"
   },
   "outputs": [
    {
     "data": {
      "text/plain": [
       "dtype('int32')"
      ]
     },
     "execution_count": 41,
     "metadata": {},
     "output_type": "execute_result"
    }
   ],
   "source": [
    "df.Runtime = df.Runtime.str.extract('(\\d+)', expand=False)\n",
    "df.Runtime = df.Runtime.astype(int)\n",
    "df.Runtime.dtype"
   ]
  },
  {
   "cell_type": "markdown",
   "metadata": {
    "colab_type": "text",
    "id": "h_k8KippBl9W"
   },
   "source": [
    "Finally, we need to convert `VotesnUS` and `VotesUS.`"
   ]
  },
  {
   "cell_type": "code",
   "execution_count": 42,
   "metadata": {
    "colab": {},
    "colab_type": "code",
    "id": "vQhXhkQlBl9W"
   },
   "outputs": [
    {
     "name": "stdout",
     "output_type": "stream",
     "text": [
      "float64\n",
      "float64\n"
     ]
    }
   ],
   "source": [
    "df.VotesnUS = df.VotesnUS.astype(float)\n",
    "print( df.VotesnUS.dtype )\n",
    "df.VotesUS = df.VotesUS.astype(float)\n",
    "print( df.VotesUS.dtype )"
   ]
  },
  {
   "cell_type": "markdown",
   "metadata": {
    "colab_type": "text",
    "id": "Wp9kFM_TBl9Z"
   },
   "source": [
    "Our dataset is now ready for further exploratory data analysis. A good start is always to review the data."
   ]
  },
  {
   "cell_type": "code",
   "execution_count": 43,
   "metadata": {
    "colab": {},
    "colab_type": "code",
    "id": "G0Isqp_EBl9a",
    "scrolled": false
   },
   "outputs": [
    {
     "data": {
      "text/html": [
       "<div>\n",
       "<style scoped>\n",
       "    .dataframe tbody tr th:only-of-type {\n",
       "        vertical-align: middle;\n",
       "    }\n",
       "\n",
       "    .dataframe tbody tr th {\n",
       "        vertical-align: top;\n",
       "    }\n",
       "\n",
       "    .dataframe thead th {\n",
       "        text-align: right;\n",
       "    }\n",
       "</style>\n",
       "<table border=\"1\" class=\"dataframe\">\n",
       "  <thead>\n",
       "    <tr style=\"text-align: right;\">\n",
       "      <th></th>\n",
       "      <th>Title</th>\n",
       "      <th>Rating</th>\n",
       "      <th>TotalVotes</th>\n",
       "      <th>MetaCritic</th>\n",
       "      <th>Budget</th>\n",
       "      <th>Runtime</th>\n",
       "      <th>VotesUS</th>\n",
       "      <th>VotesnUS</th>\n",
       "    </tr>\n",
       "  </thead>\n",
       "  <tbody>\n",
       "    <tr>\n",
       "      <td>1</td>\n",
       "      <td>12 Years a Slave (2013)</td>\n",
       "      <td>8.1</td>\n",
       "      <td>496092</td>\n",
       "      <td>96.0</td>\n",
       "      <td>20000000</td>\n",
       "      <td>134</td>\n",
       "      <td>8.3</td>\n",
       "      <td>8.0</td>\n",
       "    </tr>\n",
       "    <tr>\n",
       "      <td>2</td>\n",
       "      <td>127 Hours (2010)</td>\n",
       "      <td>7.6</td>\n",
       "      <td>297075</td>\n",
       "      <td>82.0</td>\n",
       "      <td>18000000</td>\n",
       "      <td>94</td>\n",
       "      <td>7.7</td>\n",
       "      <td>7.6</td>\n",
       "    </tr>\n",
       "    <tr>\n",
       "      <td>3</td>\n",
       "      <td>50/50 (2011)</td>\n",
       "      <td>7.7</td>\n",
       "      <td>283935</td>\n",
       "      <td>72.0</td>\n",
       "      <td>8000000</td>\n",
       "      <td>100</td>\n",
       "      <td>7.9</td>\n",
       "      <td>7.6</td>\n",
       "    </tr>\n",
       "    <tr>\n",
       "      <td>5</td>\n",
       "      <td>Amour (2012)</td>\n",
       "      <td>7.9</td>\n",
       "      <td>76121</td>\n",
       "      <td>94.0</td>\n",
       "      <td>8900000</td>\n",
       "      <td>127</td>\n",
       "      <td>7.9</td>\n",
       "      <td>7.8</td>\n",
       "    </tr>\n",
       "    <tr>\n",
       "      <td>6</td>\n",
       "      <td>Argo (2012)</td>\n",
       "      <td>7.7</td>\n",
       "      <td>486840</td>\n",
       "      <td>86.0</td>\n",
       "      <td>44500000</td>\n",
       "      <td>120</td>\n",
       "      <td>8.0</td>\n",
       "      <td>7.6</td>\n",
       "    </tr>\n",
       "    <tr>\n",
       "      <td>7</td>\n",
       "      <td>Arrival (2016)</td>\n",
       "      <td>8.0</td>\n",
       "      <td>370842</td>\n",
       "      <td>81.0</td>\n",
       "      <td>47000000</td>\n",
       "      <td>116</td>\n",
       "      <td>8.0</td>\n",
       "      <td>7.9</td>\n",
       "    </tr>\n",
       "    <tr>\n",
       "      <td>8</td>\n",
       "      <td>Beasts of No Nation (2015)</td>\n",
       "      <td>7.8</td>\n",
       "      <td>51781</td>\n",
       "      <td>79.0</td>\n",
       "      <td>6000000</td>\n",
       "      <td>137</td>\n",
       "      <td>7.9</td>\n",
       "      <td>7.7</td>\n",
       "    </tr>\n",
       "    <tr>\n",
       "      <td>9</td>\n",
       "      <td>Before Midnight (2013)</td>\n",
       "      <td>7.9</td>\n",
       "      <td>106553</td>\n",
       "      <td>94.0</td>\n",
       "      <td>3000000</td>\n",
       "      <td>109</td>\n",
       "      <td>8.0</td>\n",
       "      <td>7.9</td>\n",
       "    </tr>\n",
       "    <tr>\n",
       "      <td>11</td>\n",
       "      <td>Birdman or (The Unexpected Virtue of Ignorance...</td>\n",
       "      <td>7.8</td>\n",
       "      <td>448725</td>\n",
       "      <td>88.0</td>\n",
       "      <td>18000000</td>\n",
       "      <td>119</td>\n",
       "      <td>7.9</td>\n",
       "      <td>7.7</td>\n",
       "    </tr>\n",
       "    <tr>\n",
       "      <td>12</td>\n",
       "      <td>Black Swan (2010)</td>\n",
       "      <td>8.0</td>\n",
       "      <td>587893</td>\n",
       "      <td>79.0</td>\n",
       "      <td>13000000</td>\n",
       "      <td>108</td>\n",
       "      <td>8.0</td>\n",
       "      <td>8.0</td>\n",
       "    </tr>\n",
       "    <tr>\n",
       "      <td>13</td>\n",
       "      <td>Boyhood (2014)</td>\n",
       "      <td>7.9</td>\n",
       "      <td>290327</td>\n",
       "      <td>100.0</td>\n",
       "      <td>4000000</td>\n",
       "      <td>165</td>\n",
       "      <td>8.0</td>\n",
       "      <td>7.9</td>\n",
       "    </tr>\n",
       "    <tr>\n",
       "      <td>14</td>\n",
       "      <td>Bridge of Spies (2015)</td>\n",
       "      <td>7.6</td>\n",
       "      <td>223756</td>\n",
       "      <td>81.0</td>\n",
       "      <td>40000000</td>\n",
       "      <td>142</td>\n",
       "      <td>7.7</td>\n",
       "      <td>7.5</td>\n",
       "    </tr>\n",
       "    <tr>\n",
       "      <td>15</td>\n",
       "      <td>Captain America: Civil War (2016)</td>\n",
       "      <td>7.9</td>\n",
       "      <td>431555</td>\n",
       "      <td>75.0</td>\n",
       "      <td>250000000</td>\n",
       "      <td>147</td>\n",
       "      <td>8.1</td>\n",
       "      <td>7.7</td>\n",
       "    </tr>\n",
       "    <tr>\n",
       "      <td>16</td>\n",
       "      <td>Captain America: The Winter Soldier (2014)</td>\n",
       "      <td>7.8</td>\n",
       "      <td>552706</td>\n",
       "      <td>70.0</td>\n",
       "      <td>170000000</td>\n",
       "      <td>136</td>\n",
       "      <td>8.1</td>\n",
       "      <td>7.5</td>\n",
       "    </tr>\n",
       "    <tr>\n",
       "      <td>18</td>\n",
       "      <td>Captain Phillips (2013)</td>\n",
       "      <td>7.8</td>\n",
       "      <td>350818</td>\n",
       "      <td>83.0</td>\n",
       "      <td>55000000</td>\n",
       "      <td>134</td>\n",
       "      <td>7.8</td>\n",
       "      <td>7.8</td>\n",
       "    </tr>\n",
       "    <tr>\n",
       "      <td>19</td>\n",
       "      <td>Creed (2015)</td>\n",
       "      <td>7.6</td>\n",
       "      <td>179795</td>\n",
       "      <td>82.0</td>\n",
       "      <td>35000000</td>\n",
       "      <td>133</td>\n",
       "      <td>7.9</td>\n",
       "      <td>7.5</td>\n",
       "    </tr>\n",
       "    <tr>\n",
       "      <td>20</td>\n",
       "      <td>Dallas Buyers Club (2013)</td>\n",
       "      <td>8.0</td>\n",
       "      <td>357641</td>\n",
       "      <td>84.0</td>\n",
       "      <td>5000000</td>\n",
       "      <td>117</td>\n",
       "      <td>8.0</td>\n",
       "      <td>7.9</td>\n",
       "    </tr>\n",
       "    <tr>\n",
       "      <td>21</td>\n",
       "      <td>Dawn of the Planet of the Apes (2014)</td>\n",
       "      <td>7.6</td>\n",
       "      <td>349646</td>\n",
       "      <td>79.0</td>\n",
       "      <td>170000000</td>\n",
       "      <td>130</td>\n",
       "      <td>7.8</td>\n",
       "      <td>7.5</td>\n",
       "    </tr>\n",
       "    <tr>\n",
       "      <td>22</td>\n",
       "      <td>Deadpool (2016)</td>\n",
       "      <td>8.0</td>\n",
       "      <td>652127</td>\n",
       "      <td>65.0</td>\n",
       "      <td>58000000</td>\n",
       "      <td>108</td>\n",
       "      <td>8.1</td>\n",
       "      <td>7.9</td>\n",
       "    </tr>\n",
       "    <tr>\n",
       "      <td>25</td>\n",
       "      <td>Disconnect (2012)</td>\n",
       "      <td>7.6</td>\n",
       "      <td>65448</td>\n",
       "      <td>64.0</td>\n",
       "      <td>10000000</td>\n",
       "      <td>115</td>\n",
       "      <td>7.4</td>\n",
       "      <td>7.5</td>\n",
       "    </tr>\n",
       "  </tbody>\n",
       "</table>\n",
       "</div>"
      ],
      "text/plain": [
       "                                                Title  Rating  TotalVotes  \\\n",
       "1                             12 Years a Slave (2013)     8.1      496092   \n",
       "2                                    127 Hours (2010)     7.6      297075   \n",
       "3                                        50/50 (2011)     7.7      283935   \n",
       "5                                        Amour (2012)     7.9       76121   \n",
       "6                                         Argo (2012)     7.7      486840   \n",
       "7                                      Arrival (2016)     8.0      370842   \n",
       "8                          Beasts of No Nation (2015)     7.8       51781   \n",
       "9                              Before Midnight (2013)     7.9      106553   \n",
       "11  Birdman or (The Unexpected Virtue of Ignorance...     7.8      448725   \n",
       "12                                  Black Swan (2010)     8.0      587893   \n",
       "13                                     Boyhood (2014)     7.9      290327   \n",
       "14                             Bridge of Spies (2015)     7.6      223756   \n",
       "15                  Captain America: Civil War (2016)     7.9      431555   \n",
       "16         Captain America: The Winter Soldier (2014)     7.8      552706   \n",
       "18                            Captain Phillips (2013)     7.8      350818   \n",
       "19                                       Creed (2015)     7.6      179795   \n",
       "20                          Dallas Buyers Club (2013)     8.0      357641   \n",
       "21              Dawn of the Planet of the Apes (2014)     7.6      349646   \n",
       "22                                    Deadpool (2016)     8.0      652127   \n",
       "25                                  Disconnect (2012)     7.6       65448   \n",
       "\n",
       "    MetaCritic     Budget  Runtime  VotesUS  VotesnUS  \n",
       "1         96.0   20000000      134      8.3       8.0  \n",
       "2         82.0   18000000       94      7.7       7.6  \n",
       "3         72.0    8000000      100      7.9       7.6  \n",
       "5         94.0    8900000      127      7.9       7.8  \n",
       "6         86.0   44500000      120      8.0       7.6  \n",
       "7         81.0   47000000      116      8.0       7.9  \n",
       "8         79.0    6000000      137      7.9       7.7  \n",
       "9         94.0    3000000      109      8.0       7.9  \n",
       "11        88.0   18000000      119      7.9       7.7  \n",
       "12        79.0   13000000      108      8.0       8.0  \n",
       "13       100.0    4000000      165      8.0       7.9  \n",
       "14        81.0   40000000      142      7.7       7.5  \n",
       "15        75.0  250000000      147      8.1       7.7  \n",
       "16        70.0  170000000      136      8.1       7.5  \n",
       "18        83.0   55000000      134      7.8       7.8  \n",
       "19        82.0   35000000      133      7.9       7.5  \n",
       "20        84.0    5000000      117      8.0       7.9  \n",
       "21        79.0  170000000      130      7.8       7.5  \n",
       "22        65.0   58000000      108      8.1       7.9  \n",
       "25        64.0   10000000      115      7.4       7.5  "
      ]
     },
     "execution_count": 43,
     "metadata": {},
     "output_type": "execute_result"
    }
   ],
   "source": [
    "df.head(20)"
   ]
  },
  {
   "cell_type": "markdown",
   "metadata": {
    "colab_type": "text",
    "id": "5NYYjoSzBl9c"
   },
   "source": [
    "We can also gett a quick look at the distribution of the data with the `describe()` method."
   ]
  },
  {
   "cell_type": "code",
   "execution_count": 44,
   "metadata": {
    "colab": {},
    "colab_type": "code",
    "id": "muUH2Fn_Bl9d"
   },
   "outputs": [
    {
     "data": {
      "text/html": [
       "<div>\n",
       "<style scoped>\n",
       "    .dataframe tbody tr th:only-of-type {\n",
       "        vertical-align: middle;\n",
       "    }\n",
       "\n",
       "    .dataframe tbody tr th {\n",
       "        vertical-align: top;\n",
       "    }\n",
       "\n",
       "    .dataframe thead th {\n",
       "        text-align: right;\n",
       "    }\n",
       "</style>\n",
       "<table border=\"1\" class=\"dataframe\">\n",
       "  <thead>\n",
       "    <tr style=\"text-align: right;\">\n",
       "      <th></th>\n",
       "      <th>Rating</th>\n",
       "      <th>TotalVotes</th>\n",
       "      <th>MetaCritic</th>\n",
       "      <th>Budget</th>\n",
       "      <th>Runtime</th>\n",
       "      <th>VotesUS</th>\n",
       "      <th>VotesnUS</th>\n",
       "    </tr>\n",
       "  </thead>\n",
       "  <tbody>\n",
       "    <tr>\n",
       "      <td>count</td>\n",
       "      <td>92.000000</td>\n",
       "      <td>9.200000e+01</td>\n",
       "      <td>92.000000</td>\n",
       "      <td>9.200000e+01</td>\n",
       "      <td>92.000000</td>\n",
       "      <td>92.000000</td>\n",
       "      <td>92.00000</td>\n",
       "    </tr>\n",
       "    <tr>\n",
       "      <td>mean</td>\n",
       "      <td>7.902174</td>\n",
       "      <td>4.181309e+05</td>\n",
       "      <td>78.347826</td>\n",
       "      <td>7.345543e+07</td>\n",
       "      <td>126.239130</td>\n",
       "      <td>7.980435</td>\n",
       "      <td>7.81087</td>\n",
       "    </tr>\n",
       "    <tr>\n",
       "      <td>std</td>\n",
       "      <td>0.248944</td>\n",
       "      <td>2.666065e+05</td>\n",
       "      <td>9.275319</td>\n",
       "      <td>7.293477e+07</td>\n",
       "      <td>19.582662</td>\n",
       "      <td>0.231687</td>\n",
       "      <td>0.26289</td>\n",
       "    </tr>\n",
       "    <tr>\n",
       "      <td>min</td>\n",
       "      <td>7.500000</td>\n",
       "      <td>4.077700e+04</td>\n",
       "      <td>62.000000</td>\n",
       "      <td>3.000000e+06</td>\n",
       "      <td>91.000000</td>\n",
       "      <td>7.400000</td>\n",
       "      <td>7.40000</td>\n",
       "    </tr>\n",
       "    <tr>\n",
       "      <td>25%</td>\n",
       "      <td>7.700000</td>\n",
       "      <td>2.615092e+05</td>\n",
       "      <td>71.750000</td>\n",
       "      <td>1.500000e+07</td>\n",
       "      <td>111.500000</td>\n",
       "      <td>7.800000</td>\n",
       "      <td>7.60000</td>\n",
       "    </tr>\n",
       "    <tr>\n",
       "      <td>50%</td>\n",
       "      <td>7.900000</td>\n",
       "      <td>3.516920e+05</td>\n",
       "      <td>78.000000</td>\n",
       "      <td>3.900000e+07</td>\n",
       "      <td>125.500000</td>\n",
       "      <td>8.000000</td>\n",
       "      <td>7.80000</td>\n",
       "    </tr>\n",
       "    <tr>\n",
       "      <td>75%</td>\n",
       "      <td>8.100000</td>\n",
       "      <td>5.403022e+05</td>\n",
       "      <td>84.000000</td>\n",
       "      <td>1.387500e+08</td>\n",
       "      <td>138.250000</td>\n",
       "      <td>8.100000</td>\n",
       "      <td>8.00000</td>\n",
       "    </tr>\n",
       "    <tr>\n",
       "      <td>max</td>\n",
       "      <td>8.800000</td>\n",
       "      <td>1.609713e+06</td>\n",
       "      <td>100.000000</td>\n",
       "      <td>2.500000e+08</td>\n",
       "      <td>180.000000</td>\n",
       "      <td>8.700000</td>\n",
       "      <td>8.80000</td>\n",
       "    </tr>\n",
       "  </tbody>\n",
       "</table>\n",
       "</div>"
      ],
      "text/plain": [
       "          Rating    TotalVotes  MetaCritic        Budget     Runtime  \\\n",
       "count  92.000000  9.200000e+01   92.000000  9.200000e+01   92.000000   \n",
       "mean    7.902174  4.181309e+05   78.347826  7.345543e+07  126.239130   \n",
       "std     0.248944  2.666065e+05    9.275319  7.293477e+07   19.582662   \n",
       "min     7.500000  4.077700e+04   62.000000  3.000000e+06   91.000000   \n",
       "25%     7.700000  2.615092e+05   71.750000  1.500000e+07  111.500000   \n",
       "50%     7.900000  3.516920e+05   78.000000  3.900000e+07  125.500000   \n",
       "75%     8.100000  5.403022e+05   84.000000  1.387500e+08  138.250000   \n",
       "max     8.800000  1.609713e+06  100.000000  2.500000e+08  180.000000   \n",
       "\n",
       "         VotesUS  VotesnUS  \n",
       "count  92.000000  92.00000  \n",
       "mean    7.980435   7.81087  \n",
       "std     0.231687   0.26289  \n",
       "min     7.400000   7.40000  \n",
       "25%     7.800000   7.60000  \n",
       "50%     8.000000   7.80000  \n",
       "75%     8.100000   8.00000  \n",
       "max     8.700000   8.80000  "
      ]
     },
     "execution_count": 44,
     "metadata": {},
     "output_type": "execute_result"
    }
   ],
   "source": [
    "df.describe()"
   ]
  },
  {
   "cell_type": "markdown",
   "metadata": {
    "colab_type": "text",
    "id": "lSWSzBYlBl9h"
   },
   "source": [
    "Just looking numbers or statistical summaries can be dificult to comprehend.\n",
    "\n",
    "Plotting allows us to visually inspect and gain better insights into our data. There are many options includimg histograms, scatter plots, correlation plots, box plots, etc. The best options will depend on our data and the problem we are trying to solve.\n",
    "\n",
    "`Matplotlib` and `Pandas` (which embeds Matplotlib in its functionality) provide handy plotig tools. \n",
    "\n",
    "Throughout this analysis process, we may discover outlier or other irregularities in our data that we may need to be cleaned. Real world data tends to be pretty messy.\n",
    "\n",
    "For this example, below Pandas to create a scatter matrix. "
   ]
  },
  {
   "cell_type": "code",
   "execution_count": 45,
   "metadata": {
    "colab": {},
    "colab_type": "code",
    "id": "hbP1gGg3Bl9l"
   },
   "outputs": [
    {
     "data": {
      "image/png": "[encoded data removed]",
      "text/plain": [
       "<Figure size 1440x1440 with 49 Axes>"
      ]
     },
     "metadata": {
      "needs_background": "light"
     },
     "output_type": "display_data"
    }
   ],
   "source": [
    "import matplotlib.pyplot as plt\n",
    "%matplotlib inline\n",
    "pd.plotting.scatter_matrix(df, figsize=(20,20))\n",
    "plt.show();"
   ]
  },
  {
   "cell_type": "markdown",
   "metadata": {
    "colab_type": "text",
    "id": "L8T7F55BBl9r"
   },
   "source": [
    "From the above plot, we're most intresting in looking for patterns or correlation between the target or dependent variable `Rating` and the other indepdent variables.\n",
    "\n",
    "Another important step that may be necessary is *feature engineering* which involves transforming exising features or creating new features. We will skip feature engineering for now and revisit this later in the course.\n"
   ]
  },
  {
   "cell_type": "markdown",
   "metadata": {
    "colab_type": "text",
    "id": "icXerJ6jBl9s"
   },
   "source": [
    "### Model the data\n",
    "\n",
    "The type of model we use will depend on our type of problem. \n",
    "\n",
    "If our data has a value that we are trying to predict, this is a *supervised learning problem*. If the value we are predicting is a label or category, we call this a classification problem. If we are trying to predict a number, like `Rating` (our case), we call this a regression problem.\n",
    "\n",
    "Another important category or problems are *unsupervised*. In this case, we either do not have a value we are trying to predict or we are just trying to better understand the association between variable in our data.\n",
    "\n",
    "For our example, we are going to be using regression (supervised learning) to predict the IMDB `Rating` from `TotalVotes`, `MetaCritic`, `Budget`, `Runtime`, `VotesUS`, and `VotesnUS.`\n",
    "\n",
    "In general, it is a good idea to first create a *baseline* model. A baseline model is usually a simple, linear model that allows us to gain futher insight into our problem. For our example, we will use *linear regression* which is available in the *Scikit-Learn* library.\n",
    "\n",
    "**Scikit-Learn** is a machine learning package for Python that can be used for a variety of tasks. \n",
    "\n",
    "When building a model, it is important to hold out some data for training, called a *train-test-split* to prevent overfitting of our model. Overfitting is when the model fits the training data too closely, and does not do a good job predicting values for examples not included in the training data. I.e., the model does not generalize well to new examples. \n"
   ]
  },
  {
   "cell_type": "markdown",
   "metadata": {
    "colab_type": "text",
    "id": "30_2UpQcBl9t"
   },
   "source": [
    "First, we need to separate our feature variables `X` (a matrix) from our target variable `y` for `Scikit-Learn.`"
   ]
  },
  {
   "cell_type": "code",
   "execution_count": 46,
   "metadata": {
    "colab": {},
    "colab_type": "code",
    "id": "VvnZqgHhBl9v"
   },
   "outputs": [],
   "source": [
    "y = df.Rating\n",
    "X = df[['TotalVotes', 'MetaCritic', 'Budget', 'Runtime', 'VotesUS', 'VotesnUS']]"
   ]
  },
  {
   "cell_type": "markdown",
   "metadata": {
    "colab_type": "text",
    "id": "SKK9yQ7-Bl9y"
   },
   "source": [
    "Next, we will scale values to between $0$ and $1$ using `MinMaxScaler.` Scaling values helps learning optimization algorithms like `gradient descent` converge on the appropriate model parameters."
   ]
  },
  {
   "cell_type": "code",
   "execution_count": 47,
   "metadata": {
    "colab": {},
    "colab_type": "code",
    "id": "E4Vr7kfABl90",
    "scrolled": true
   },
   "outputs": [],
   "source": [
    "from sklearn.preprocessing import MinMaxScaler"
   ]
  },
  {
   "cell_type": "code",
   "execution_count": 48,
   "metadata": {
    "colab": {},
    "colab_type": "code",
    "id": "QFhOvDCzBl95"
   },
   "outputs": [],
   "source": [
    "Xs = MinMaxScaler().fit_transform(X)"
   ]
  },
  {
   "cell_type": "markdown",
   "metadata": {
    "colab_type": "text",
    "id": "HrmJPjWYBl98"
   },
   "source": [
    "Create the train test split."
   ]
  },
  {
   "cell_type": "code",
   "execution_count": 49,
   "metadata": {
    "colab": {},
    "colab_type": "code",
    "id": "DGqpwxYYBl99"
   },
   "outputs": [],
   "source": [
    "from sklearn.model_selection import train_test_split"
   ]
  },
  {
   "cell_type": "code",
   "execution_count": 50,
   "metadata": {
    "colab": {},
    "colab_type": "code",
    "id": "4ovBfoEjBl9_"
   },
   "outputs": [
    {
     "name": "stdout",
     "output_type": "stream",
     "text": [
      "(73, 6) (73,)\n",
      "(19, 6) (19,)\n"
     ]
    }
   ],
   "source": [
    "X_train, X_test, y_train, y_test = train_test_split(Xs, y, test_size=0.2)\n",
    "print (X_train.shape, y_train.shape)\n",
    "print (X_test.shape, y_test.shape)"
   ]
  },
  {
   "cell_type": "markdown",
   "metadata": {
    "colab_type": "text",
    "id": "oOiEbm6UBl-D"
   },
   "source": [
    "We are now ready to train a baseline model where we *fit* our model to the training data. \n",
    "\n",
    "Then we test our model by having it *predict* `y` values for our `X_test` data. We can then *evaluate* the performance of the model by comparing the predicted values for *y* values to  the actual *y* values. "
   ]
  },
  {
   "cell_type": "code",
   "execution_count": 51,
   "metadata": {
    "colab": {},
    "colab_type": "code",
    "id": "unT4EikmBl-D"
   },
   "outputs": [],
   "source": [
    "from sklearn import linear_model"
   ]
  },
  {
   "cell_type": "code",
   "execution_count": 52,
   "metadata": {
    "colab": {},
    "colab_type": "code",
    "id": "j9-qMeHnBl-H"
   },
   "outputs": [],
   "source": [
    "lm = linear_model.LinearRegression()\n",
    "model = lm.fit(X_train, y_train)\n",
    "predictions = lm.predict(X_test)"
   ]
  },
  {
   "cell_type": "markdown",
   "metadata": {
    "colab_type": "text",
    "id": "GTeVbCJeBl-L"
   },
   "source": [
    "Below we generate a scatter plot of Predicted versus Actual values of `y`."
   ]
  },
  {
   "cell_type": "code",
   "execution_count": 53,
   "metadata": {
    "colab": {},
    "colab_type": "code",
    "id": "7-ySFiOaBl-M"
   },
   "outputs": [
    {
     "data": {
      "image/png": "[encoded data removed]",
      "text/plain": [
       "<Figure size 432x288 with 1 Axes>"
      ]
     },
     "metadata": {
      "needs_background": "light"
     },
     "output_type": "display_data"
    }
   ],
   "source": [
    "plt.scatter(y_test, predictions)\n",
    "plt.xlabel('Actual y')\n",
    "plt.ylabel('Predicted y')\n",
    "plt.show()"
   ]
  },
  {
   "cell_type": "markdown",
   "metadata": {
    "colab_type": "text",
    "id": "PKWx7Y1OBl-U"
   },
   "source": [
    "And here we calculate the score using `R-squared`, which is the default metric used by `Scikit-Learn` for regression problems.\n",
    "\n",
    "Basically, 1R-squared1, is a goodness-of-fit metric. It is the percentage of variation in our `y` variable explained by our model. A value close to 1 is good!\n",
    "\n",
    "Other common evaluation metrics for regression include `Root Mean Squared Error` and `Adjusted R-squared`."
   ]
  },
  {
   "cell_type": "code",
   "execution_count": 54,
   "metadata": {
    "colab": {},
    "colab_type": "code",
    "id": "fAUEqv2PBl-W"
   },
   "outputs": [
    {
     "name": "stdout",
     "output_type": "stream",
     "text": [
      "Score: 0.9439941221841385\n"
     ]
    }
   ],
   "source": [
    "print ('Score:', model.score(X_test, y_test))  # R-squared is the default metric used by Sklearn. "
   ]
  },
  {
   "cell_type": "markdown",
   "metadata": {
    "colab_type": "text",
    "id": "uhNhoZG3Bl-Y"
   },
   "source": [
    "$0.95$ $R^2$ is a very good number.\n",
    "\n",
    "At this step, we would most likely futher explore the validity of our results, and evaluate other machine learning algorithms and explore feature engineering techniques to see of we can improve our results. \n",
    "\n",
    "One area of concern is collinearity. Collinearrity is when you have features that are very similar and give the same information about the target variable. For example, temperature in Celsius and Fahrenheit. The features `VotesUS` and `VotesnUS` could highly correlated. This could help explain the high $R^2$ value. We may want to consider using Adjuarted $R^2$ or other evalution metrics. A correlation plot would help explore this further. \n"
   ]
  },
  {
   "cell_type": "markdown",
   "metadata": {
    "colab_type": "text",
    "id": "aN2PGRhLBl-Z"
   },
   "source": [
    "Beta coefficients are the parameters learned by our linear model. For linear regression, they represent the change in the targe value of a unit change for each input variable holding all other variables constant.\n",
    "\n",
    "We see that `VotesnUS.` had the largest postive impact on our target variable.\n",
    "\n",
    "Other Python packages like `Statsmodels` provide regression coefficients and their associated `p-values` which lets us know if these coefficient are statisticall significant."
   ]
  },
  {
   "cell_type": "code",
   "execution_count": 55,
   "metadata": {
    "colab": {},
    "colab_type": "code",
    "id": "vMXoK9RSBl-Z"
   },
   "outputs": [
    {
     "data": {
      "text/plain": [
       "array([-0.09863912, -0.07844901,  0.03114588,  0.05672535,  0.37272597,\n",
       "        1.04912225])"
      ]
     },
     "execution_count": 55,
     "metadata": {},
     "output_type": "execute_result"
    }
   ],
   "source": [
    "lm.coef_"
   ]
  },
  {
   "cell_type": "markdown",
   "metadata": {
    "colab_type": "text",
    "id": "n3NzcR13Bl-c"
   },
   "source": [
    "We will move on to the final step in our process."
   ]
  },
  {
   "cell_type": "markdown",
   "metadata": {
    "colab_type": "text",
    "id": "6PZ8GR73Bl-d"
   },
   "source": [
    "### Communicate and visualize the results\n",
    "\n",
    "Finally, you need to communicate your results. The beauty of using notebooks is that they provide a great way to integrate documentaion, methods, and results.\n",
    "\n",
    "The best form of communication will depend on your problem and your target audience. For each of the following audiences, identify aspects of this study that would be most relevant:\n",
    "\n",
    "- Data Scientist\n",
    "\n",
    "- Software/data engineer\n",
    "\n",
    "- Marketing manager\n"
   ]
  },
  {
   "cell_type": "markdown",
   "metadata": {
    "colab_type": "text",
    "collapsed": true,
    "id": "AWAljaWDBl-d"
   },
   "source": [
    "Answer:\n",
    "\n",
    "Data scientist - data munging and model building; what attributes were used for prediction and why, what model was used, why the regression model was used, the output graph and R^2 value, what are the limitations of using R^2 to evaluate accuracy of the model\n",
    "\n",
    "Software/data engineer - data collection and processing; where the data came from, what attributes were used for prediction, how null values were dealt with\n",
    "\n",
    "Marketing manager - final result; the final Actual Y vs Predicted Y graph along with the R^2 value and an explanation of the limitations of the R^2, such as the high correlations\n",
    "    "
   ]
  },
  {
   "cell_type": "code",
   "execution_count": 0,
   "metadata": {
    "colab": {},
    "colab_type": "code",
    "id": "qIeAVDn1Bl-e"
   },
   "outputs": [],
   "source": []
  }
 ],
 "metadata": {
  "colab": {
   "collapsed_sections": [],
   "name": "02_02_DataScienceWorkflow_assign.ipynb",
   "provenance": []
  },
  "kernelspec": {
   "display_name": "Python 3",
   "language": "python",
   "name": "python3"
  },
  "language_info": {
   "codemirror_mode": {
    "name": "ipython",
    "version": 3
   },
   "file_extension": ".py",
   "mimetype": "text/x-python",
   "name": "python",
   "nbconvert_exporter": "python",
   "pygments_lexer": "ipython3",
   "version": "3.7.4"
  }
 },
 "nbformat": 4,
 "nbformat_minor": 1
}
